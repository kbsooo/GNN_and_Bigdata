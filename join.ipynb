{
 "cells": [
  {
   "cell_type": "code",
   "execution_count": 1,
   "id": "ce9a11f4",
   "metadata": {},
   "outputs": [],
   "source": [
    "import pandas as pd\n",
    "import numpy as np\n",
    "\n",
    "ratings_df = pd.read_csv('jester_ratings.csv')\n",
    "\n",
    "new_user_id = 9999\n",
    "good_jokes = [2, 21, 6, 150, 23, 37, 51, 52, 53, 59, 99, 101, 102, 103, 104, 105, 106, 107, 108, 109, 110, 112]\n",
    "bad_jokes = [3, 4, 5, 7, 8, 11, 15, 16, 17, 19, 20, 27, 28, 29, 30, 32, 33, 34, 35, 36, 38, 39, 40, 41, 42, 43, 44, 45, 46, 47, 48, 49, 50, 54, 55, 56, 57, 58, 60, 61, 62, 63, 64, 65, 66, 67, 68, 69, 70, 71, 72, 73, 74, 75, 76, 77, 78, 79, 80, 81, 82, 83, 84, 85, 86, 87, 88, 89, 90, 91, 92, 93, 94, 95, 96, 97, 98, 100, 118, 122]\n",
    "\n",
    "new_ratings_list = []\n",
    "\n",
    "# 좋은 점수 생성 (8.0 ~ 10.0 사이의 랜덤 값)\n",
    "for joke_id in good_jokes:\n",
    "    rating = np.random.uniform(7.0, 10.0)\n",
    "    new_ratings_list.append({'userId': new_user_id, 'jokeId': joke_id, 'rating': round(rating, 3)})\n",
    "\n",
    "# 안 좋은 점수 생성 (-10.0 ~ -8.0 사이의 랜덤 값)\n",
    "for joke_id in bad_jokes:\n",
    "    rating = np.random.uniform(-10.0, -7.0)\n",
    "    new_ratings_list.append({'userId': new_user_id, 'jokeId': joke_id, 'rating': round(rating, 3)})\n",
    "\n",
    "# 새로운 평점 데이터를 DataFrame으로 변환\n",
    "new_ratings_df = pd.DataFrame(new_ratings_list)\n",
    "\n",
    "\n",
    "ratings_df = pd.concat([ratings_df, new_ratings_df], ignore_index=True)"
   ]
  },
  {
   "cell_type": "code",
   "execution_count": 2,
   "id": "302179c2",
   "metadata": {},
   "outputs": [
    {
     "name": "stdout",
     "output_type": "stream",
     "text": [
      "   userId  ...                     category\n",
      "0       1  ...                          Q&A\n",
      "1       1  ...                          Q&A\n",
      "2       1  ...                          Q&A\n",
      "3       1  ...  언어유희 / 말장난 (Wordplay / Pun)\n",
      "4       1  ...                          Q&A\n",
      "\n",
      "[5 rows x 5 columns]\n"
     ]
    }
   ],
   "source": [
    "import pandas as pd\n",
    "\n",
    "items_df = pd.read_csv('jester_items.csv')\n",
    "# ratings_df = pd.read_csv('jester_ratings.csv')\n",
    "\n",
    "merged_df = pd.merge(ratings_df, items_df, on='jokeId')\n",
    "\n",
    "print(merged_df.head())"
   ]
  },
  {
   "cell_type": "code",
   "execution_count": 3,
   "id": "15c0d8e7",
   "metadata": {},
   "outputs": [
    {
     "name": "stdout",
     "output_type": "stream",
     "text": [
      "   userId  ...                     category\n",
      "0       1  ...                          Q&A\n",
      "1       1  ...                          Q&A\n",
      "2       1  ...                          Q&A\n",
      "3       1  ...  언어유희 / 말장난 (Wordplay / Pun)\n",
      "4       1  ...                          Q&A\n",
      "\n",
      "[5 rows x 5 columns]\n"
     ]
    }
   ],
   "source": [
    "from sklearn.preprocessing import MinMaxScaler\n",
    "\n",
    "scaler = MinMaxScaler(feature_range=(1, 10))\n",
    "merged_df['rating'] = scaler.fit_transform(merged_df[['rating']])\n",
    "\n",
    "print(merged_df.head())\n",
    "\n",
    "merged_df.to_csv('joke.csv', index=False)"
   ]
  },
  {
   "cell_type": "code",
   "execution_count": null,
   "id": "0b11ddcf",
   "metadata": {},
   "outputs": [],
   "source": []
  }
 ],
 "metadata": {
  "language_info": {
   "name": "python"
  }
 },
 "nbformat": 4,
 "nbformat_minor": 5
}
