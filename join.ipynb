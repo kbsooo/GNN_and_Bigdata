{
 "cells": [
  {
   "cell_type": "code",
   "execution_count": 2,
   "id": "302179c2",
   "metadata": {},
   "outputs": [
    {
     "name": "stdout",
     "output_type": "stream",
     "text": [
      "   userId  jokeId  rating                                           jokeText\n",
      "0       1       5   0.219  Q.\\tWhat's O. J. Simpson's Internet address? \\...\n",
      "1       1       7  -9.281  How many feminists does it take to screw in a ...\n",
      "2       1       8  -9.281  Q. Did you hear about the dyslexic devil worsh...\n",
      "3       1      13  -6.781  They asked the Japanese visitor if they have e...\n",
      "4       1      15   0.875  Q:  What did the blind person say when given s...\n"
     ]
    }
   ],
   "source": [
    "import pandas as pd\n",
    "\n",
    "items_df = pd.read_csv('jester_items.csv')\n",
    "ratings_df = pd.read_csv('jester_ratings.csv')\n",
    "\n",
    "merged_df = pd.merge(ratings_df, items_df, on='jokeId')\n",
    "\n",
    "print(merged_df.head())"
   ]
  },
  {
   "cell_type": "code",
   "execution_count": 3,
   "id": "15c0d8e7",
   "metadata": {},
   "outputs": [
    {
     "name": "stdout",
     "output_type": "stream",
     "text": [
      "   userId  jokeId   rating                                           jokeText\n",
      "0       1       5  5.59855  Q.\\tWhat's O. J. Simpson's Internet address? \\...\n",
      "1       1       7  1.32355  How many feminists does it take to screw in a ...\n",
      "2       1       8  1.32355  Q. Did you hear about the dyslexic devil worsh...\n",
      "3       1      13  2.44855  They asked the Japanese visitor if they have e...\n",
      "4       1      15  5.89375  Q:  What did the blind person say when given s...\n"
     ]
    }
   ],
   "source": [
    "from sklearn.preprocessing import MinMaxScaler\n",
    "\n",
    "scaler = MinMaxScaler(feature_range=(1, 10))\n",
    "merged_df['rating'] = scaler.fit_transform(merged_df[['rating']])\n",
    "\n",
    "print(merged_df.head())\n",
    "\n",
    "merged_df.to_csv('joke.csv', index=False)"
   ]
  },
  {
   "cell_type": "code",
   "execution_count": null,
   "id": "0b11ddcf",
   "metadata": {},
   "outputs": [],
   "source": []
  }
 ],
 "metadata": {
  "language_info": {
   "name": "python"
  }
 },
 "nbformat": 4,
 "nbformat_minor": 5
}
